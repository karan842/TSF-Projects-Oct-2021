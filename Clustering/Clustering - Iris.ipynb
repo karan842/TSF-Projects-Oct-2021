{
 "cells": [
  {
   "cell_type": "markdown",
   "id": "b1b83831",
   "metadata": {},
   "source": [
    "# Author : Karan Shingde"
   ]
  },
  {
   "cell_type": "markdown",
   "id": "d55e73fb",
   "metadata": {},
   "source": [
    "## Role : Data Scientist and Business Analyst"
   ]
  },
  {
   "cell_type": "markdown",
   "id": "988bcac8",
   "metadata": {},
   "source": [
    "### Intern at TSF-GRIP October 2021 batch"
   ]
  },
  {
   "cell_type": "markdown",
   "id": "5a0b2bd0",
   "metadata": {},
   "source": [
    "# Task : From the given 'IRIS' dataset, product the optimum number of clusters and represent it visually"
   ]
  },
  {
   "cell_type": "markdown",
   "id": "0aa595fe",
   "metadata": {},
   "source": [
    "## Imporing Essential Libraries"
   ]
  },
  {
   "cell_type": "code",
   "execution_count": 14,
   "id": "ca9185cc",
   "metadata": {},
   "outputs": [],
   "source": [
    "import numpy as np\n",
    "import pandas as pd\n",
    "import matplotlib.pyplot as plt\n",
    "import seaborn as sns\n",
    "sns.set_style('whitegrid')\n",
    "import warnings\n",
    "warnings.filterwarnings('ignore')"
   ]
  },
  {
   "cell_type": "markdown",
   "id": "c170d02b",
   "metadata": {},
   "source": [
    "## Importing IRIS data set"
   ]
  },
  {
   "cell_type": "code",
   "execution_count": 15,
   "id": "e8b036d1",
   "metadata": {},
   "outputs": [
    {
     "data": {
      "text/html": [
       "<div>\n",
       "<style scoped>\n",
       "    .dataframe tbody tr th:only-of-type {\n",
       "        vertical-align: middle;\n",
       "    }\n",
       "\n",
       "    .dataframe tbody tr th {\n",
       "        vertical-align: top;\n",
       "    }\n",
       "\n",
       "    .dataframe thead th {\n",
       "        text-align: right;\n",
       "    }\n",
       "</style>\n",
       "<table border=\"1\" class=\"dataframe\">\n",
       "  <thead>\n",
       "    <tr style=\"text-align: right;\">\n",
       "      <th></th>\n",
       "      <th>sepal length (cm)</th>\n",
       "      <th>sepal width (cm)</th>\n",
       "      <th>petal length (cm)</th>\n",
       "      <th>petal width (cm)</th>\n",
       "    </tr>\n",
       "  </thead>\n",
       "  <tbody>\n",
       "    <tr>\n",
       "      <th>0</th>\n",
       "      <td>5.1</td>\n",
       "      <td>3.5</td>\n",
       "      <td>1.4</td>\n",
       "      <td>0.2</td>\n",
       "    </tr>\n",
       "    <tr>\n",
       "      <th>1</th>\n",
       "      <td>4.9</td>\n",
       "      <td>3.0</td>\n",
       "      <td>1.4</td>\n",
       "      <td>0.2</td>\n",
       "    </tr>\n",
       "    <tr>\n",
       "      <th>2</th>\n",
       "      <td>4.7</td>\n",
       "      <td>3.2</td>\n",
       "      <td>1.3</td>\n",
       "      <td>0.2</td>\n",
       "    </tr>\n",
       "    <tr>\n",
       "      <th>3</th>\n",
       "      <td>4.6</td>\n",
       "      <td>3.1</td>\n",
       "      <td>1.5</td>\n",
       "      <td>0.2</td>\n",
       "    </tr>\n",
       "    <tr>\n",
       "      <th>4</th>\n",
       "      <td>5.0</td>\n",
       "      <td>3.6</td>\n",
       "      <td>1.4</td>\n",
       "      <td>0.2</td>\n",
       "    </tr>\n",
       "  </tbody>\n",
       "</table>\n",
       "</div>"
      ],
      "text/plain": [
       "   sepal length (cm)  sepal width (cm)  petal length (cm)  petal width (cm)\n",
       "0                5.1               3.5                1.4               0.2\n",
       "1                4.9               3.0                1.4               0.2\n",
       "2                4.7               3.2                1.3               0.2\n",
       "3                4.6               3.1                1.5               0.2\n",
       "4                5.0               3.6                1.4               0.2"
      ]
     },
     "execution_count": 15,
     "metadata": {},
     "output_type": "execute_result"
    }
   ],
   "source": [
    "from sklearn import datasets\n",
    "\n",
    "# Load the iris dataset\n",
    "iris = datasets.load_iris()\n",
    "df = pd.DataFrame(iris.data, columns = iris.feature_names)\n",
    "df.head() #first 5 records of dataset"
   ]
  },
  {
   "cell_type": "markdown",
   "id": "1b73c9c3",
   "metadata": {},
   "source": [
    "## Let's find the optimum number of clusters for KMeans?"
   ]
  },
  {
   "cell_type": "code",
   "execution_count": 16,
   "id": "5f6b7691",
   "metadata": {},
   "outputs": [],
   "source": [
    "X = df.iloc[:,[0,1,2,3]].values\n",
    "\n",
    "from sklearn.cluster import KMeans\n",
    "res = []\n",
    "\n",
    "for i in range(1,11):\n",
    "    kmeans = KMeans(n_clusters = i, random_state=0)\n",
    "    kmeans.fit(X)\n",
    "    res.append(kmeans.inertia_)"
   ]
  },
  {
   "cell_type": "markdown",
   "id": "c8b7f131",
   "metadata": {},
   "source": [
    "##  Plotting result on graph"
   ]
  },
  {
   "cell_type": "code",
   "execution_count": 17,
   "id": "df60f259",
   "metadata": {},
   "outputs": [
    {
     "data": {
      "image/png": "[encoded data removed]",
      "text/plain": [
       "<Figure size 432x288 with 1 Axes>"
      ]
     },
     "metadata": {},
     "output_type": "display_data"
    }
   ],
   "source": [
    "plt.plot(range(1,11), res)\n",
    "plt.title('CLassic elbow method')\n",
    "plt.xlabel('Number of clusters')\n",
    "plt.ylabel('Sum of squares within cluster (res)')\n",
    "plt.show()"
   ]
  },
  {
   "cell_type": "markdown",
   "id": "7025a253",
   "metadata": {},
   "source": [
    "## As there are three features of IRIS dataset, we will choose number of clusters are 3"
   ]
  },
  {
   "cell_type": "code",
   "execution_count": 18,
   "id": "7ab7a151",
   "metadata": {},
   "outputs": [],
   "source": [
    "kmeans = KMeans(n_clusters = 3)\n",
    "prediction = kmeans.fit_predict(X)"
   ]
  },
  {
   "cell_type": "markdown",
   "id": "eac455a1",
   "metadata": {},
   "source": [
    "## Visualizing the clusters"
   ]
  },
  {
   "cell_type": "code",
   "execution_count": 20,
   "id": "a7b4fc38",
   "metadata": {},
   "outputs": [
    {
     "data": {
      "text/plain": [
       "<matplotlib.legend.Legend at 0x2295dea1a90>"
      ]
     },
     "execution_count": 20,
     "metadata": {},
     "output_type": "execute_result"
    },
    {
     "data": {
      "image/png": "[encoded data removed]",
      "text/plain": [
       "<Figure size 432x288 with 1 Axes>"
      ]
     },
     "metadata": {},
     "output_type": "display_data"
    }
   ],
   "source": [
    "plt.scatter(X[prediction==0, 0], X[prediction==0, 1],s=80, c='red', label='Setosa')\n",
    "plt.scatter(X[prediction==1, 0], X[prediction==1, 1],s=80, c='blue', label='Versicolur')\n",
    "plt.scatter(X[prediction==2, 0], X[prediction==2, 1],s=80, c='green', label='Virginca')\n",
    "\n",
    "#Centroid's plotting\n",
    "plt.scatter(kmeans.cluster_centers_[:,0], kmeans.cluster_centers_[:,1],s=80, c='yellow', label='Centroids')\n",
    "\n",
    "plt.legend()"
   ]
  }
 ],
 "metadata": {
  "kernelspec": {
   "display_name": "Python 3 (ipykernel)",
   "language": "python",
   "name": "python3"
  },
  "language_info": {
   "codemirror_mode": {
    "name": "ipython",
    "version": 3
   },
   "file_extension": ".py",
   "mimetype": "text/x-python",
   "name": "python",
   "nbconvert_exporter": "python",
   "pygments_lexer": "ipython3",
   "version": "3.8.5"
  }
 },
 "nbformat": 4,
 "nbformat_minor": 5
}
